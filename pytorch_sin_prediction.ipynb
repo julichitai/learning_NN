{
  "nbformat": 4,
  "nbformat_minor": 0,
  "metadata": {
    "colab": {
      "name": "pytorch_sin_prediction.ipynb",
      "provenance": [],
      "toc_visible": true,
      "authorship_tag": "ABX9TyMoTe28aIfLKQLF4uJzNBew",
      "include_colab_link": true
    },
    "kernelspec": {
      "name": "python3",
      "display_name": "Python 3"
    }
  },
  "cells": [
    {
      "cell_type": "markdown",
      "metadata": {
        "id": "view-in-github",
        "colab_type": "text"
      },
      "source": [
        "<a href=\"https://colab.research.google.com/github/julichitai/learning_NN/blob/CV_Samsung/pytorch_sin_prediction.ipynb\" target=\"_parent\"><img src=\"https://colab.research.google.com/assets/colab-badge.svg\" alt=\"Open In Colab\"/></a>"
      ]
    },
    {
      "cell_type": "code",
      "metadata": {
        "id": "4YENt4eaf5AY"
      },
      "source": [
        "import torch\n",
        "import matplotlib.pyplot as plt\n",
        "plt.rcParams['figure.figsize'] = (15, 6)"
      ],
      "execution_count": 12,
      "outputs": []
    },
    {
      "cell_type": "markdown",
      "metadata": {
        "id": "IvViMSaigWz_"
      },
      "source": [
        "\n",
        "## Train dataset"
      ]
    },
    {
      "cell_type": "code",
      "metadata": {
        "colab": {
          "base_uri": "https://localhost:8080/",
          "height": 390
        },
        "id": "hppMcfOZgXeq",
        "outputId": "972460d9-3eb5-4544-fba5-14bc565cb6e1"
      },
      "source": [
        "size = 100\n",
        "x_train = torch.linspace(-10, 10, 100)\n",
        "y_train = torch.sin(x_train) + torch.rand(size)\n",
        "\n",
        "plt.scatter(x_train, y_train)\n",
        "plt.title('y = sin(x)');"
      ],
      "execution_count": 23,
      "outputs": [
        {
          "output_type": "display_data",
          "data": {
            "image/png": "[encoded data removed]",
            "text/plain": [
              "<Figure size 1080x432 with 1 Axes>"
            ]
          },
          "metadata": {
            "tags": [],
            "needs_background": "light"
          }
        }
      ]
    },
    {
      "cell_type": "code",
      "metadata": {
        "id": "icigeqeNgxXm"
      },
      "source": [
        "x_train.unsqueeze_(1)\n",
        "y_train.unsqueeze_(1);"
      ],
      "execution_count": 24,
      "outputs": []
    },
    {
      "cell_type": "markdown",
      "metadata": {
        "id": "l0BGW_Uohs5r"
      },
      "source": [
        "\n",
        "## Validation dataset\n"
      ]
    },
    {
      "cell_type": "code",
      "metadata": {
        "colab": {
          "base_uri": "https://localhost:8080/",
          "height": 407
        },
        "id": "GKDMVHMuheG3",
        "outputId": "51e65d56-94ee-48d0-c358-0710dd42ce35"
      },
      "source": [
        "x_valid = torch.linspace(-10, 10, size)\n",
        "y_valid = torch.sin(x_valid)\n",
        "\n",
        "plt.scatter(x_valid, y_valid)\n",
        "plt.title('y = sin(x)')"
      ],
      "execution_count": 25,
      "outputs": [
        {
          "output_type": "execute_result",
          "data": {
            "text/plain": [
              "Text(0.5, 1.0, 'y = sin(x)')"
            ]
          },
          "metadata": {
            "tags": []
          },
          "execution_count": 25
        },
        {
          "output_type": "display_data",
          "data": {
            "image/png": "[encoded data removed]",
            "text/plain": [
              "<Figure size 1080x432 with 1 Axes>"
            ]
          },
          "metadata": {
            "tags": [],
            "needs_background": "light"
          }
        }
      ]
    },
    {
      "cell_type": "code",
      "metadata": {
        "id": "pew7CORph5dh"
      },
      "source": [
        "x_valid.unsqueeze_(1)\n",
        "y_valid.unsqueeze_(1);"
      ],
      "execution_count": null,
      "outputs": []
    },
    {
      "cell_type": "markdown",
      "metadata": {
        "id": "Qdk_IWzlh81m"
      },
      "source": [
        "## Model construction"
      ]
    },
    {
      "cell_type": "code",
      "metadata": {
        "id": "e37-V30LlIzX"
      },
      "source": [
        "num_epoch = 10000\n",
        "hidden_layers = 50\n",
        "input_size = 1\n",
        "output_size = 1\n",
        "learning_rate = 0.01"
      ],
      "execution_count": 83,
      "outputs": []
    },
    {
      "cell_type": "code",
      "metadata": {
        "id": "K2ISsJlgh9m6"
      },
      "source": [
        "from torch import nn\n",
        "from torch.optim import lr_scheduler\n",
        "\n",
        "\n",
        "class SinNet(nn.Module):\n",
        "    def __init__(self, input_size, hidden_layer, output_size):\n",
        "        super().__init__()\n",
        "        self.fc1 = nn.Linear(input_size, hidden_layer)\n",
        "        self.relu = nn.ReLU()\n",
        "        self.fc2 = nn.Linear(hidden_layer, output_size)\n",
        "\n",
        "    def forward(self, x):\n",
        "        out = self.fc1(x)\n",
        "        out = self.relu(out)\n",
        "        out = self.fc2(out)\n",
        "        return out\n",
        "\n",
        "model = SinNet(input_size, hidden_layers, output_size)"
      ],
      "execution_count": 84,
      "outputs": []
    },
    {
      "cell_type": "code",
      "metadata": {
        "id": "a-c0FjJcjEPZ"
      },
      "source": [
        "def mse(true, pred):\n",
        "    return torch.mean(torch.square(true - pred))\n",
        "\n",
        "\n",
        "criterion = mse\n",
        "optimizer = torch.optim.Adam(model.parameters(), lr=learning_rate)\n",
        "scheduler = lr_scheduler.ReduceLROnPlateau(optimizer, factor=0.05, patience=1000, mode='min', verbose=True)"
      ],
      "execution_count": 85,
      "outputs": []
    },
    {
      "cell_type": "markdown",
      "metadata": {
        "id": "Y3UD5xxMkEiG"
      },
      "source": [
        "## Prediction"
      ]
    },
    {
      "cell_type": "code",
      "metadata": {
        "colab": {
          "base_uri": "https://localhost:8080/",
          "height": 391
        },
        "id": "A2w6LneRiNHy",
        "outputId": "b2703f66-49dc-4076-ae6d-4271413a9ecf"
      },
      "source": [
        "def predict(model, x, y):\n",
        "    out = model(x)\n",
        "    loss = criterion(out, y)\n",
        "    print(f'Loss is {loss}')\n",
        "\n",
        "    plt.scatter(x, y, c='b', label='ground truth')\n",
        "    plt.scatter(x, out.detach().numpy(), c='r', label='predicted')\n",
        "\n",
        "\n",
        "predict(model, x_valid, y_valid)"
      ],
      "execution_count": 86,
      "outputs": [
        {
          "output_type": "stream",
          "text": [
            "Loss is 1.099583625793457\n"
          ],
          "name": "stdout"
        },
        {
          "output_type": "display_data",
          "data": {
            "image/png": "[encoded data removed]",
            "text/plain": [
              "<Figure size 1080x432 with 1 Axes>"
            ]
          },
          "metadata": {
            "tags": [],
            "needs_background": "light"
          }
        }
      ]
    },
    {
      "cell_type": "markdown",
      "metadata": {
        "id": "TIuhJheDkIoG"
      },
      "source": [
        "## Training procedure"
      ]
    },
    {
      "cell_type": "code",
      "metadata": {
        "colab": {
          "base_uri": "https://localhost:8080/",
          "height": 652
        },
        "id": "TSmNODKxiT5U",
        "outputId": "93d4a676-467b-4dc2-b940-fafc85e1c961"
      },
      "source": [
        "for epoch in range(num_epoch):\n",
        "    out = model(x_train)\n",
        "    loss = criterion(y_train, out)\n",
        "\n",
        "    optimizer.zero_grad()\n",
        "    loss.backward()\n",
        "    optimizer.step()\n",
        "\n",
        "    with torch.no_grad():\n",
        "        loss = criterion(y_valid, model(x_valid))\n",
        "        scheduler.step(loss)\n",
        "\n",
        "    if (epoch + 1) % 1000 == 0:\n",
        "        print(f'Epoch [{epoch + 1}/{num_epoch}]. Loss is {loss}')\n",
        "        \n",
        "\n",
        "predict(model, x_valid, y_valid)"
      ],
      "execution_count": 87,
      "outputs": [
        {
          "output_type": "stream",
          "text": [
            "Epoch [1000/10000]. Loss is 0.37616947293281555\n",
            "Epoch [2000/10000]. Loss is 0.31795257329940796\n",
            "Epoch [3000/10000]. Loss is 0.34599602222442627\n",
            "Epoch [4000/10000]. Loss is 0.2501670718193054\n",
            "Epoch [5000/10000]. Loss is 0.24553973972797394\n",
            "Epoch  5154: reducing learning rate of group 0 to 5.0000e-04.\n",
            "Epoch [6000/10000]. Loss is 0.2513425350189209\n",
            "Epoch  6155: reducing learning rate of group 0 to 2.5000e-05.\n",
            "Epoch [7000/10000]. Loss is 0.2513788640499115\n",
            "Epoch  7156: reducing learning rate of group 0 to 1.2500e-06.\n",
            "Epoch [8000/10000]. Loss is 0.2513503134250641\n",
            "Epoch  8157: reducing learning rate of group 0 to 6.2500e-08.\n",
            "Epoch [9000/10000]. Loss is 0.2513507306575775\n",
            "Epoch  9158: reducing learning rate of group 0 to 3.1250e-09.\n",
            "Epoch [10000/10000]. Loss is 0.2513507306575775\n",
            "Loss is 0.2513507306575775\n"
          ],
          "name": "stdout"
        },
        {
          "output_type": "display_data",
          "data": {
            "image/png": "[encoded data removed]",
            "text/plain": [
              "<Figure size 1080x432 with 1 Axes>"
            ]
          },
          "metadata": {
            "tags": [],
            "needs_background": "light"
          }
        }
      ]
    }
  ]
}