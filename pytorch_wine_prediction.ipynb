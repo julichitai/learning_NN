{
  "nbformat": 4,
  "nbformat_minor": 0,
  "metadata": {
    "colab": {
      "name": "pytorch_wine_prediction.ipynb",
      "provenance": [],
      "authorship_tag": "ABX9TyNOAJKQ57PMOGO2nEHPcopR",
      "include_colab_link": true
    },
    "kernelspec": {
      "name": "python3",
      "display_name": "Python 3"
    }
  },
  "cells": [
    {
      "cell_type": "markdown",
      "metadata": {
        "id": "view-in-github",
        "colab_type": "text"
      },
      "source": [
        "<a href=\"https://colab.research.google.com/github/julichitai/learning_NN/blob/CV_Samsung/pytorch_wine_prediction.ipynb\" target=\"_parent\"><img src=\"https://colab.research.google.com/assets/colab-badge.svg\" alt=\"Open In Colab\"/></a>"
      ]
    },
    {
      "cell_type": "code",
      "metadata": {
        "id": "pZ_RUYhA1z2E"
      },
      "source": [
        "import torch\n",
        "from torch import nn\n",
        "import numpy as np\n",
        "from sklearn.datasets import load_wine\n",
        "from sklearn.model_selection import train_test_split"
      ],
      "execution_count": 40,
      "outputs": []
    },
    {
      "cell_type": "code",
      "metadata": {
        "colab": {
          "base_uri": "https://localhost:8080/"
        },
        "id": "OImkBg0s4FRB",
        "outputId": "f8631249-f741-4c73-fc71-dd329761258d"
      },
      "source": [
        "X, y = load_wine(return_X_y=True)\n",
        "X.shape"
      ],
      "execution_count": 72,
      "outputs": [
        {
          "output_type": "execute_result",
          "data": {
            "text/plain": [
              "(178, 13)"
            ]
          },
          "metadata": {
            "tags": []
          },
          "execution_count": 72
        }
      ]
    },
    {
      "cell_type": "code",
      "metadata": {
        "id": "_sJJnCtg4NV4"
      },
      "source": [
        "X_train, X_val, y_train, y_val = train_test_split(\n",
        "    X[:, :2], y,\n",
        "    random_state=12,\n",
        "    shuffle=True,\n",
        "    stratify=y\n",
        ")\n",
        "\n",
        "X_train = torch.FloatTensor(X_train)\n",
        "X_val = torch.FloatTensor(X_val)\n",
        "y_train = torch.LongTensor(y_train)\n",
        "y_val = torch.LongTensor(y_val)"
      ],
      "execution_count": 87,
      "outputs": []
    },
    {
      "cell_type": "code",
      "metadata": {
        "id": "S9ERyP8-5jFx"
      },
      "source": [
        "input_size = X_train.shape[1]\n",
        "n_hidden = 10\n",
        "output_size = len(torch.unique(y_train))\n",
        "batch_size = 10\n",
        "num_epoch = 1000\n",
        "learning_rate = 0.001"
      ],
      "execution_count": 88,
      "outputs": []
    },
    {
      "cell_type": "code",
      "metadata": {
        "colab": {
          "base_uri": "https://localhost:8080/"
        },
        "id": "tt7KeloJ4dTh",
        "outputId": "6e732b2e-6f67-41ac-c58e-f3c6a3985595"
      },
      "source": [
        "class WineNet(nn.Module):\n",
        "    def __init__(self, input_size, n_hidden, output_size):\n",
        "        super().__init__()\n",
        "        self.fc1 = nn.Linear(input_size, n_hidden)\n",
        "        self.act1 = nn.Sigmoid()\n",
        "        self.fc2 = nn.Linear(n_hidden, n_hidden)\n",
        "        self.fc3 = nn.Linear(n_hidden, output_size)\n",
        "        self.sm = nn.Softmax(dim=1)\n",
        "\n",
        "    def forward(self, x):\n",
        "        out = self.fc1(x)\n",
        "        out = self.act1(out)\n",
        "        out = self.fc2(out)\n",
        "        out = self.act1(out)\n",
        "        out = self.fc3(out)\n",
        "        return out\n",
        "    \n",
        "    def inference(self, x):\n",
        "        out = self.forward(x)\n",
        "        out = self.sm(out)\n",
        "        return out\n",
        "\n",
        "\n",
        "model = WineNet(input_size, n_hidden, output_size)\n",
        "model"
      ],
      "execution_count": 89,
      "outputs": [
        {
          "output_type": "execute_result",
          "data": {
            "text/plain": [
              "WineNet(\n",
              "  (fc1): Linear(in_features=2, out_features=10, bias=True)\n",
              "  (act1): Sigmoid()\n",
              "  (fc2): Linear(in_features=10, out_features=10, bias=True)\n",
              "  (fc3): Linear(in_features=10, out_features=3, bias=True)\n",
              "  (sm): Softmax(dim=1)\n",
              ")"
            ]
          },
          "metadata": {
            "tags": []
          },
          "execution_count": 89
        }
      ]
    },
    {
      "cell_type": "code",
      "metadata": {
        "id": "k71RkCj95wfa"
      },
      "source": [
        "criterion = nn.CrossEntropyLoss()\n",
        "optimizer = torch.optim.Adam(model.parameters(), lr=learning_rate)"
      ],
      "execution_count": 90,
      "outputs": []
    },
    {
      "cell_type": "code",
      "metadata": {
        "colab": {
          "base_uri": "https://localhost:8080/"
        },
        "id": "J_GSK_8t6Icv",
        "outputId": "35d76cee-e0ec-4cff-c071-9fc3203e44eb"
      },
      "source": [
        "for epoch in range(num_epoch):\n",
        "    order = np.random.permutation(len(X_train))\n",
        "    for start_index in range(0, len(X_train), batch_size):\n",
        "        X_batch = X_train[start_index:start_index + batch_size]\n",
        "        y_batch = y_train[start_index:start_index + batch_size]\n",
        "\n",
        "        output = model(X_batch)\n",
        "        loss = criterion(output, y_batch)\n",
        "        \n",
        "        optimizer.zero_grad()\n",
        "        loss.backward()\n",
        "        optimizer.step()\n",
        "\n",
        "    if (epoch + 1) % 100 == 0:\n",
        "        train_out = model(X_train)\n",
        "        train_pred = torch.argmax(train_out, dim=1)\n",
        "        train_loss = criterion(train_out, y_train)\n",
        "\n",
        "        val_out = model(X_val)\n",
        "        val_pred = torch.argmax(val_out, dim=1)\n",
        "        val_loss = criterion(val_out, y_val)\n",
        "\n",
        "        print(f'Epoch [{epoch + 1}/{num_epoch}]. Train loss {train_loss.item()}. Val loss {val_loss.item()}')\n",
        "        print(f'Train acc {(train_pred == y_train).float().mean()}. Val acc {(val_pred == y_val).float().mean()}')"
      ],
      "execution_count": 91,
      "outputs": [
        {
          "output_type": "stream",
          "text": [
            "Epoch [100/1000]. Train loss 0.8930123448371887. Val loss 1.0104060173034668\n",
            "Train acc 0.5413534045219421. Val acc 0.46666666865348816\n",
            "Epoch [200/1000]. Train loss 0.8622180819511414. Val loss 1.0848298072814941\n",
            "Train acc 0.5338345766067505. Val acc 0.42222222685813904\n",
            "Epoch [300/1000]. Train loss 0.8317750692367554. Val loss 1.1056227684020996\n",
            "Train acc 0.5939849615097046. Val acc 0.6222222447395325\n",
            "Epoch [400/1000]. Train loss 0.7869298458099365. Val loss 1.101667046546936\n",
            "Train acc 0.6616541147232056. Val acc 0.5555555820465088\n",
            "Epoch [500/1000]. Train loss 0.7523378729820251. Val loss 1.1047372817993164\n",
            "Train acc 0.6691729426383972. Val acc 0.5555555820465088\n",
            "Epoch [600/1000]. Train loss 0.7259635329246521. Val loss 1.1035428047180176\n",
            "Train acc 0.6917293071746826. Val acc 0.5555555820465088\n",
            "Epoch [700/1000]. Train loss 0.6974772214889526. Val loss 1.0876209735870361\n",
            "Train acc 0.7293233275413513. Val acc 0.644444465637207\n",
            "Epoch [800/1000]. Train loss 0.6629926562309265. Val loss 1.0517033338546753\n",
            "Train acc 0.7518796920776367. Val acc 0.6888889074325562\n",
            "Epoch [900/1000]. Train loss 0.6237708330154419. Val loss 0.9962483644485474\n",
            "Train acc 0.7969924807548523. Val acc 0.7555555701255798\n",
            "Epoch [1000/1000]. Train loss 0.585331380367279. Val loss 0.930924117565155\n",
            "Train acc 0.7894737124443054. Val acc 0.7777777910232544\n"
          ],
          "name": "stdout"
        }
      ]
    },
    {
      "cell_type": "code",
      "metadata": {
        "colab": {
          "base_uri": "https://localhost:8080/",
          "height": 483
        },
        "id": "6hut4QaX8Bfh",
        "outputId": "c6b6d0fb-d77a-43c1-c83c-348f6b285f1f"
      },
      "source": [
        "import matplotlib.pyplot as plt\n",
        "%matplotlib inline\n",
        "\n",
        "plt.rcParams['figure.figsize'] = (10, 8)\n",
        "\n",
        "n_classes = 3\n",
        "plot_colors = ['g', 'orange', 'black']\n",
        "plot_step = 0.02\n",
        "\n",
        "x_min, x_max = X_train[:, 0].min() - 1, X_train[:, 0].max() + 1\n",
        "y_min, y_max = X_train[:, 1].min() - 1, X_train[:, 1].max() + 1\n",
        "\n",
        "xx, yy =  torch.meshgrid(torch.arange(x_min, x_max, plot_step),\n",
        "                         torch.arange(y_min, y_max, plot_step))\n",
        "\n",
        "preds = model(\n",
        "    torch.cat([xx.reshape(-1, 1), yy.reshape(-1, 1)], dim=1))\n",
        "\n",
        "preds_class = preds.data.numpy().argmax(axis=1)\n",
        "preds_class = preds_class.reshape(xx.shape)\n",
        "plt.contourf(xx, yy, preds_class, cmap='Accent')\n",
        "\n",
        "for i, color in zip(range(n_classes), plot_colors):\n",
        "    indexes = np.where(y_train == i)\n",
        "    plt.scatter(X_train[indexes, 0], \n",
        "                X_train[indexes, 1], \n",
        "                c=color, \n",
        "                cmap='Accent')"
      ],
      "execution_count": 92,
      "outputs": [
        {
          "output_type": "display_data",
          "data": {
            "image/png": "[encoded data removed]",
            "text/plain": [
              "<Figure size 720x576 with 1 Axes>"
            ]
          },
          "metadata": {
            "tags": [],
            "needs_background": "light"
          }
        }
      ]
    },
    {
      "cell_type": "code",
      "metadata": {
        "colab": {
          "base_uri": "https://localhost:8080/",
          "height": 483
        },
        "id": "tUhJU24w-mpY",
        "outputId": "ec4a6dd9-e612-4383-dfd9-38061d218fa8"
      },
      "source": [
        "x_min, x_max = X_val[:, 0].min() - 1, X_val[:, 0].max() + 1\n",
        "y_min, y_max = X_val[:, 1].min() - 1, X_val[:, 1].max() + 1\n",
        "\n",
        "xx, yy =  torch.meshgrid(torch.arange(x_min, x_max, plot_step),\n",
        "                         torch.arange(y_min, y_max, plot_step))\n",
        "\n",
        "preds = model(\n",
        "    torch.cat([xx.reshape(-1, 1), yy.reshape(-1, 1)], dim=1))\n",
        "\n",
        "preds_class = preds.data.numpy().argmax(axis=1)\n",
        "preds_class = preds_class.reshape(xx.shape)\n",
        "plt.contourf(xx, yy, preds_class, cmap='Accent')\n",
        "\n",
        "for i, color in zip(range(n_classes), plot_colors):\n",
        "    indexes = np.where(y_val == i)\n",
        "    plt.scatter(X_val[indexes, 0], \n",
        "                X_val[indexes, 1], \n",
        "                c=color, \n",
        "                cmap='Accent')"
      ],
      "execution_count": 93,
      "outputs": [
        {
          "output_type": "display_data",
          "data": {
            "image/png": "[encoded data removed]",
            "text/plain": [
              "<Figure size 720x576 with 1 Axes>"
            ]
          },
          "metadata": {
            "tags": [],
            "needs_background": "light"
          }
        }
      ]
    }
  ]
}