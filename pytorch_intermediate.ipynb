{
  "nbformat": 4,
  "nbformat_minor": 0,
  "metadata": {
    "colab": {
      "name": "pytorch_intermediate.ipynb",
      "provenance": [],
      "collapsed_sections": [],
      "toc_visible": true,
      "include_colab_link": true
    },
    "kernelspec": {
      "name": "python3",
      "display_name": "Python 3"
    },
    "accelerator": "GPU"
  },
  "cells": [
    {
      "cell_type": "markdown",
      "metadata": {
        "id": "view-in-github",
        "colab_type": "text"
      },
      "source": [
        "<a href=\"https://colab.research.google.com/github/julichitai/learning_NN/blob/MIPT/pytorch_intermediate.ipynb\" target=\"_parent\"><img src=\"https://colab.research.google.com/assets/colab-badge.svg\" alt=\"Open In Colab\"/></a>"
      ]
    },
    {
      "cell_type": "markdown",
      "metadata": {
        "id": "QdsDW3yn4UH6"
      },
      "source": [
        "https://github.com/yunjey/pytorch-tutorial/blob/master/tutorials/01-basics/feedforward_neural_network/main.py"
      ]
    },
    {
      "cell_type": "code",
      "metadata": {
        "colab": {
          "base_uri": "https://localhost:8080/"
        },
        "id": "ShJcs3wnKXRq",
        "outputId": "f3b463bb-6c7e-45ba-b429-6874d6e2be9d"
      },
      "source": [
        "# ================================================================== #\n",
        "#                         Neural Network                             #\n",
        "# ================================================================== #\n",
        "\n",
        "import torch\n",
        "from torch import nn\n",
        "import torchvision\n",
        "import torchvision.transforms as transforms\n",
        "\n",
        "\n",
        "# Device configuration\n",
        "device = torch.device('cuda' if torch.cuda.is_available() else 'cpu')\n",
        "\n",
        "# Hyper-parameters \n",
        "input_size = 32 * 32 * 3\n",
        "hidden_size = 500\n",
        "num_classes = 10\n",
        "batch_size = 100\n",
        "learning_rate = 0.001\n",
        "num_epochs = 10\n",
        "\n",
        "# MNIST dataset \n",
        "train_dataset = torchvision.datasets.CIFAR10('./data',\n",
        "                                           train=True,\n",
        "                                           transform=transforms.ToTensor(),\n",
        "                                           download=True)\n",
        "\n",
        "test_dataset = torchvision.datasets.CIFAR10('./data',\n",
        "                                          train=False,\n",
        "                                          transform=transforms.ToTensor())\n",
        "# Data loader\n",
        "train_loader = torch.utils.data.DataLoader(train_dataset,\n",
        "                                           batch_size=batch_size,\n",
        "                                           shuffle=True)\n",
        "\n",
        "test_loader = torch.utils.data.DataLoader(test_dataset,\n",
        "                                          batch_size=batch_size,\n",
        "                                          shuffle=False)\n",
        "\n",
        "# Fully connected neural network with one hidden layer\n",
        "class NeuralNet(nn.Module):\n",
        "    def __init__(self, input_size, hidden_size, output_size):\n",
        "        super().__init__()\n",
        "        self.fc1 = nn.Linear(input_size, hidden_size)\n",
        "        self.relu = nn.ReLU()\n",
        "        self.fc2 = nn.Linear(hidden_size, output_size)\n",
        "\n",
        "    def forward(self, x):\n",
        "        return self.fc2(self.relu(self.fc1(x)))\n",
        "\n",
        "model = NeuralNet(input_size, hidden_size, num_classes)\n",
        "\n",
        "# Loss and optimizer\n",
        "criterion = nn.CrossEntropyLoss()\n",
        "optimizer = torch.optim.Adam(model.parameters(), lr=learning_rate)\n",
        "\n",
        "# Train the model\n",
        "total_steps = len(train_loader)\n",
        "for epoch in range(num_epochs):\n",
        "    total = 0\n",
        "    correct = 0\n",
        "    for i, (images, labels) in enumerate(train_loader):\n",
        "        images = images.reshape(-1, input_size)\n",
        "\n",
        "        outputs = model(images)\n",
        "        loss = criterion(outputs, labels)\n",
        "\n",
        "        optimizer.zero_grad()\n",
        "        loss.backward()\n",
        "        optimizer.step()\n",
        "\n",
        "        _, predicted = torch.max(outputs, dim=1)\n",
        "        total += labels.size()[0]\n",
        "        correct += (labels == predicted).sum()\n",
        "\n",
        "        if (i + 1) % 100 == 0:\n",
        "            print(f'Epoch [{epoch + 1}/{num_epochs}]. Step [{i + 1}/{total_steps}].', end=' ')\n",
        "            print(f'Loss {loss.item()}. Accuracy {round(float(correct / total * 100), 2)}')\n",
        "\n",
        "# Test the model\n",
        "# In test phase, we don't need to compute gradients (for memory efficiency)\n",
        "with torch.no_grad():\n",
        "    total = 0\n",
        "    correct = 0\n",
        "    mean_loss = 0\n",
        "    total_test_size = len(test_loader)\n",
        "    for images, labels in test_loader:\n",
        "        images = images.reshape(-1, input_size)\n",
        "\n",
        "        outputs = model(images)\n",
        "        loss = criterion(outputs, labels)\n",
        "        mean_loss += loss\n",
        "\n",
        "        _, predicted = torch.max(outputs.data, dim=1)\n",
        "        total += labels.size()[0]\n",
        "        correct += (labels == predicted).sum()\n",
        "    \n",
        "    print(f'Accuracy on {batch_size * total_test_size} test images is {round(float(correct / total * 100), 2)}', end=' ')\n",
        "    print(f'Loss {mean_loss / total_test_size}')\n",
        "\n",
        "# Save the model checkpoint\n",
        "torch.save(model, 'model.pth')"
      ],
      "execution_count": null,
      "outputs": [
        {
          "output_type": "stream",
          "text": [
            "Files already downloaded and verified\n",
            "Epoch [1/10]. Step [100/500]. Loss 1.7612755298614502. Accuracy 24.83\n",
            "Epoch [1/10]. Step [200/500]. Loss 1.8539156913757324. Accuracy 28.81\n",
            "Epoch [1/10]. Step [300/500]. Loss 1.9151349067687988. Accuracy 30.35\n",
            "Epoch [1/10]. Step [400/500]. Loss 1.5922702550888062. Accuracy 31.85\n",
            "Epoch [1/10]. Step [500/500]. Loss 1.7429412603378296. Accuracy 32.76\n",
            "Epoch [2/10]. Step [100/500]. Loss 1.7222720384597778. Accuracy 37.68\n",
            "Epoch [2/10]. Step [200/500]. Loss 1.7412655353546143. Accuracy 39.19\n",
            "Epoch [2/10]. Step [300/500]. Loss 1.8095102310180664. Accuracy 39.22\n",
            "Epoch [2/10]. Step [400/500]. Loss 1.7013442516326904. Accuracy 39.46\n",
            "Epoch [2/10]. Step [500/500]. Loss 1.5171008110046387. Accuracy 39.87\n",
            "Epoch [3/10]. Step [100/500]. Loss 1.8305286169052124. Accuracy 42.44\n",
            "Epoch [3/10]. Step [200/500]. Loss 1.5850419998168945. Accuracy 42.17\n",
            "Epoch [3/10]. Step [300/500]. Loss 1.5180033445358276. Accuracy 42.13\n",
            "Epoch [3/10]. Step [400/500]. Loss 1.4750770330429077. Accuracy 42.68\n",
            "Epoch [3/10]. Step [500/500]. Loss 1.4319132566452026. Accuracy 42.78\n",
            "Epoch [4/10]. Step [100/500]. Loss 1.4837814569473267. Accuracy 45.19\n",
            "Epoch [4/10]. Step [200/500]. Loss 1.5751529932022095. Accuracy 44.99\n",
            "Epoch [4/10]. Step [300/500]. Loss 1.550742745399475. Accuracy 44.65\n",
            "Epoch [4/10]. Step [400/500]. Loss 1.575377345085144. Accuracy 44.75\n",
            "Epoch [4/10]. Step [500/500]. Loss 1.4660048484802246. Accuracy 44.77\n",
            "Epoch [5/10]. Step [100/500]. Loss 1.4934190511703491. Accuracy 45.97\n",
            "Epoch [5/10]. Step [200/500]. Loss 1.3697576522827148. Accuracy 46.16\n",
            "Epoch [5/10]. Step [300/500]. Loss 1.2651472091674805. Accuracy 46.08\n",
            "Epoch [5/10]. Step [400/500]. Loss 1.5098758935928345. Accuracy 45.97\n",
            "Epoch [5/10]. Step [500/500]. Loss 1.618797779083252. Accuracy 46.15\n",
            "Epoch [6/10]. Step [100/500]. Loss 1.4186034202575684. Accuracy 46.66\n",
            "Epoch [6/10]. Step [200/500]. Loss 1.670854091644287. Accuracy 46.9\n",
            "Epoch [6/10]. Step [300/500]. Loss 1.4910805225372314. Accuracy 47.06\n",
            "Epoch [6/10]. Step [400/500]. Loss 1.698022723197937. Accuracy 47.35\n",
            "Epoch [6/10]. Step [500/500]. Loss 1.545322299003601. Accuracy 47.44\n",
            "Epoch [7/10]. Step [100/500]. Loss 1.4205151796340942. Accuracy 47.2\n",
            "Epoch [7/10]. Step [200/500]. Loss 1.3880691528320312. Accuracy 47.1\n",
            "Epoch [7/10]. Step [300/500]. Loss 1.562880516052246. Accuracy 47.31\n",
            "Epoch [7/10]. Step [400/500]. Loss 1.6208420991897583. Accuracy 47.5\n",
            "Epoch [7/10]. Step [500/500]. Loss 1.3731443881988525. Accuracy 47.87\n",
            "Epoch [8/10]. Step [100/500]. Loss 1.5555354356765747. Accuracy 48.46\n",
            "Epoch [8/10]. Step [200/500]. Loss 1.4105479717254639. Accuracy 48.95\n",
            "Epoch [8/10]. Step [300/500]. Loss 1.3774932622909546. Accuracy 48.61\n",
            "Epoch [8/10]. Step [400/500]. Loss 1.5297636985778809. Accuracy 48.85\n",
            "Epoch [8/10]. Step [500/500]. Loss 1.436336874961853. Accuracy 48.9\n",
            "Epoch [9/10]. Step [100/500]. Loss 1.391818642616272. Accuracy 49.68\n",
            "Epoch [9/10]. Step [200/500]. Loss 1.336145281791687. Accuracy 49.47\n",
            "Epoch [9/10]. Step [300/500]. Loss 1.4569659233093262. Accuracy 49.51\n",
            "Epoch [9/10]. Step [400/500]. Loss 1.5745408535003662. Accuracy 49.84\n",
            "Epoch [9/10]. Step [500/500]. Loss 1.4891934394836426. Accuracy 49.66\n",
            "Epoch [10/10]. Step [100/500]. Loss 1.3429734706878662. Accuracy 51.18\n",
            "Epoch [10/10]. Step [200/500]. Loss 1.271742343902588. Accuracy 50.65\n",
            "Epoch [10/10]. Step [300/500]. Loss 1.215023398399353. Accuracy 50.7\n",
            "Epoch [10/10]. Step [400/500]. Loss 1.3473668098449707. Accuracy 50.63\n",
            "Epoch [10/10]. Step [500/500]. Loss 1.466446042060852. Accuracy 50.75\n",
            "Accuracy on 10000 test images is 48.99 Loss 1.4485290050506592\n"
          ],
          "name": "stdout"
        }
      ]
    },
    {
      "cell_type": "code",
      "metadata": {
        "id": "EbDltdTBdT19"
      },
      "source": [
        "model = torch.load('model.pth')"
      ],
      "execution_count": null,
      "outputs": []
    },
    {
      "cell_type": "code",
      "metadata": {
        "colab": {
          "base_uri": "https://localhost:8080/",
          "height": 283
        },
        "id": "xNYGmE-ybX19",
        "outputId": "585316de-b20e-4a9d-a281-f55dd36e3274"
      },
      "source": [
        "import numpy as np\n",
        "import matplotlib.pyplot as plt\n",
        "\n",
        "\n",
        "idx = np.random.randint(0, len(test_loader))\n",
        "test_img  = test_dataset.data[idx]\n",
        "plt.imshow(test_img)\n",
        "output = model(torch.from_numpy(test_img.reshape(-1, input_size)).type(torch.float32))\n",
        "_, pred = torch.max(output, dim=1)\n",
        "pred, test_dataset.targets[idx]"
      ],
      "execution_count": null,
      "outputs": [
        {
          "output_type": "execute_result",
          "data": {
            "text/plain": [
              "(tensor([0]), 6)"
            ]
          },
          "metadata": {
            "tags": []
          },
          "execution_count": 28
        },
        {
          "output_type": "display_data",
          "data": {
            "image/png": "[encoded data removed]",
            "text/plain": [
              "<Figure size 432x288 with 1 Axes>"
            ]
          },
          "metadata": {
            "tags": [],
            "needs_background": "light"
          }
        }
      ]
    },
    {
      "cell_type": "code",
      "metadata": {
        "colab": {
          "base_uri": "https://localhost:8080/",
          "height": 283
        },
        "id": "eEBEM3ECiiVW",
        "outputId": "ba807994-1001-43ba-a3df-76a2867f652d"
      },
      "source": [
        "import numpy as np\n",
        "import matplotlib.pyplot as plt\n",
        "\n",
        "\n",
        "for imgs, labels in test_loader:\n",
        "    idx = np.random.randint(0, test_loader.batch_size)\n",
        "    img = imgs[idx]\n",
        "    plt.imshow(np.rollaxis(img.numpy(), 0, 3))\n",
        "    output = model(img.reshape(-1, input_size).type(torch.float32))\n",
        "    _, pred = torch.max(output, dim=1)\n",
        "    print(pred, test_dataset.targets[idx])\n",
        "    break"
      ],
      "execution_count": null,
      "outputs": [
        {
          "output_type": "stream",
          "text": [
            "tensor([8]) 8\n"
          ],
          "name": "stdout"
        },
        {
          "output_type": "display_data",
          "data": {
            "image/png": "[encoded data removed]",
            "text/plain": [
              "<Figure size 432x288 with 1 Axes>"
            ]
          },
          "metadata": {
            "tags": [],
            "needs_background": "light"
          }
        }
      ]
    },
    {
      "cell_type": "markdown",
      "metadata": {
        "id": "_YAS94n04O9U"
      },
      "source": [
        "https://github.com/yunjey/pytorch-tutorial/blob/master/tutorials/02-intermediate/convolutional_neural_network/main.py"
      ]
    },
    {
      "cell_type": "code",
      "metadata": {
        "id": "-ac18--uc_BP",
        "colab": {
          "base_uri": "https://localhost:8080/"
        },
        "outputId": "bce7d992-2653-48e5-8c9d-d06a3e402a46"
      },
      "source": [
        "# ================================================================== #\n",
        "#                   Convolutional Neural Network                     #\n",
        "# ================================================================== #\n",
        "\n",
        "import torch\n",
        "from torch import nn\n",
        "import torchvision\n",
        "import torchvision.transforms as transforms\n",
        "from torchsummary import summary\n",
        "\n",
        "\n",
        "# Device configuration\n",
        "device = torch.device('cuda' if torch.cuda.is_available() else 'cpu')\n",
        "\n",
        "# Hyper parameters\n",
        "input_size = 32 * 32\n",
        "num_classes = 10\n",
        "batch_size = 100\n",
        "num_epochs = 10\n",
        "learning_rate = 0.001\n",
        "\n",
        "# dataset\n",
        "train_dataset = torchvision.datasets.CIFAR10('./data',\n",
        "                                            train=True,\n",
        "                                            transform=transforms.ToTensor(),\n",
        "                                            download=True)\n",
        "\n",
        "test_dataset = torchvision.datasets.CIFAR10('./data',\n",
        "                                           train=False,\n",
        "                                           transform=transforms.ToTensor())\n",
        "\n",
        "# Data loader\n",
        "train_loader = torch.utils.data.DataLoader(train_dataset,\n",
        "                                           batch_size=batch_size,\n",
        "                                           shuffle=True)\n",
        "\n",
        "test_loader = torch.utils.data.DataLoader(test_dataset,\n",
        "                                          batch_size=batch_size,\n",
        "                                          shuffle=False)\n",
        "\n",
        "# Convolutional neural network (two convolutional layers)\n",
        "class ConvNet(nn.Module):\n",
        "    def __init__(self, input_size, output_size):\n",
        "        super().__init__()\n",
        "        self.conv1 = nn.Sequential(\n",
        "            nn.Conv2d(3, 16, kernel_size=5, stride=1, padding=0),\n",
        "            nn.BatchNorm2d(16),\n",
        "            nn.ReLU(),\n",
        "            nn.MaxPool2d(kernel_size=2)\n",
        "        )\n",
        "        self.conv2 = nn.Sequential(\n",
        "            nn.Conv2d(16, 64, kernel_size=5, stride=1, padding=0),\n",
        "            nn.BatchNorm2d(64),\n",
        "            nn.ReLU(),\n",
        "            nn.MaxPool2d(kernel_size=2)\n",
        "        )\n",
        "        self.fc1 = nn.Linear(64 * 5 * 5, output_size)\n",
        "\n",
        "    def forward(self, x):\n",
        "        out = self.conv1(x)\n",
        "        out = self.conv2(out)\n",
        "        out = out.reshape(out.size(0), -1)\n",
        "        out = self.fc1(out)\n",
        "        return out\n",
        "\n",
        "\n",
        "model = ConvNet(input_size, num_classes).to(device)\n",
        "\n",
        "print(summary(model, (3, 32, 32), batch_size=2))\n",
        "\n",
        "# Loss and optimizer\n",
        "criterion = nn.CrossEntropyLoss()\n",
        "optimizer = torch.optim.Adam(model.parameters(), lr=learning_rate)\n",
        "\n",
        "# Train the model\n",
        "total_step = len(train_loader)\n",
        "for epoch in range(num_epochs):\n",
        "    for i, (images, labels) in enumerate(train_loader):\n",
        "        images = images.to(device)\n",
        "        labels = labels.to(device)\n",
        "\n",
        "        outputs = model(images)\n",
        "        loss = criterion(outputs, labels)\n",
        "\n",
        "        optimizer.zero_grad()\n",
        "        loss.backward()\n",
        "        optimizer.step()\n",
        "\n",
        "        _, predicted = torch.max(outputs.data, dim=1)\n",
        "        total = labels.size(0)\n",
        "        correct = (predicted == labels).sum()\n",
        "\n",
        "        if (i + 1) % 100 == 0:\n",
        "            print(f'Epoch [{epoch + 1}/{num_epochs}]. Step [{i + 1}/{total_step}].', end=' ')\n",
        "            print(f'Loss {loss.item()}. Accuracy {round(float(correct / total * 100), 2)}')\n",
        "\n",
        "# Test the model\n",
        "model.eval()  # eval mode (batchnorm uses moving mean/variance instead of mini-batch mean/variance)\n",
        "with torch.no_grad():\n",
        "    total = 0\n",
        "    correct = 0\n",
        "    mean_loss = 0\n",
        "    test_step = len(test_loader)\n",
        "    for images, labels in test_loader:\n",
        "        images = images.to(device)\n",
        "        labels = labels.to(device)\n",
        "\n",
        "        outputs = model(images)\n",
        "        loss = criterion(outputs, labels)\n",
        "        mean_loss += loss\n",
        "\n",
        "        _, predicted = torch.max(outputs.data, dim=1)\n",
        "        total += labels.size(0)\n",
        "        correct += (predicted == labels).sum()\n",
        "\n",
        "    print(f'Accuracy on {batch_size * test_step} test images is {round(float(correct / total * 100), 2)}')\n",
        "    print(f'Mean loss {mean_loss / test_step}')\n",
        "\n",
        "# Save the model checkpoint\n",
        "torch.save(model, 'model.pth')"
      ],
      "execution_count": 53,
      "outputs": [
        {
          "output_type": "stream",
          "text": [
            "Files already downloaded and verified\n",
            "----------------------------------------------------------------\n",
            "        Layer (type)               Output Shape         Param #\n",
            "================================================================\n",
            "            Conv2d-1            [2, 16, 28, 28]           1,216\n",
            "       BatchNorm2d-2            [2, 16, 28, 28]              32\n",
            "              ReLU-3            [2, 16, 28, 28]               0\n",
            "         MaxPool2d-4            [2, 16, 14, 14]               0\n",
            "            Conv2d-5            [2, 64, 10, 10]          25,664\n",
            "       BatchNorm2d-6            [2, 64, 10, 10]             128\n",
            "              ReLU-7            [2, 64, 10, 10]               0\n",
            "         MaxPool2d-8              [2, 64, 5, 5]               0\n",
            "            Linear-9                    [2, 10]          16,010\n",
            "================================================================\n",
            "Total params: 43,050\n",
            "Trainable params: 43,050\n",
            "Non-trainable params: 0\n",
            "----------------------------------------------------------------\n",
            "Input size (MB): 0.02\n",
            "Forward/backward pass size (MB): 0.94\n",
            "Params size (MB): 0.16\n",
            "Estimated Total Size (MB): 1.13\n",
            "----------------------------------------------------------------\n",
            "None\n",
            "Epoch [1/10]. Step [100/500]. Loss 1.3107757568359375. Accuracy 52.0\n",
            "Epoch [1/10]. Step [200/500]. Loss 1.4565467834472656. Accuracy 44.0\n",
            "Epoch [1/10]. Step [300/500]. Loss 1.4136117696762085. Accuracy 48.0\n",
            "Epoch [1/10]. Step [400/500]. Loss 1.0661450624465942. Accuracy 64.0\n",
            "Epoch [1/10]. Step [500/500]. Loss 1.131595492362976. Accuracy 59.0\n",
            "Epoch [2/10]. Step [100/500]. Loss 0.9699041843414307. Accuracy 65.0\n",
            "Epoch [2/10]. Step [200/500]. Loss 0.9697585105895996. Accuracy 64.0\n",
            "Epoch [2/10]. Step [300/500]. Loss 1.1404597759246826. Accuracy 60.0\n",
            "Epoch [2/10]. Step [400/500]. Loss 1.060889720916748. Accuracy 64.0\n",
            "Epoch [2/10]. Step [500/500]. Loss 0.9820532202720642. Accuracy 66.0\n",
            "Epoch [3/10]. Step [100/500]. Loss 0.9131065607070923. Accuracy 70.0\n",
            "Epoch [3/10]. Step [200/500]. Loss 1.0864557027816772. Accuracy 65.0\n",
            "Epoch [3/10]. Step [300/500]. Loss 0.6945383548736572. Accuracy 81.0\n",
            "Epoch [3/10]. Step [400/500]. Loss 0.978055477142334. Accuracy 66.0\n",
            "Epoch [3/10]. Step [500/500]. Loss 0.8381859660148621. Accuracy 67.0\n",
            "Epoch [4/10]. Step [100/500]. Loss 0.8873528838157654. Accuracy 71.0\n",
            "Epoch [4/10]. Step [200/500]. Loss 0.7716349959373474. Accuracy 72.0\n",
            "Epoch [4/10]. Step [300/500]. Loss 0.908555269241333. Accuracy 69.0\n",
            "Epoch [4/10]. Step [400/500]. Loss 0.7608756422996521. Accuracy 81.0\n",
            "Epoch [4/10]. Step [500/500]. Loss 0.9189085364341736. Accuracy 68.0\n",
            "Epoch [5/10]. Step [100/500]. Loss 0.7808290719985962. Accuracy 72.0\n",
            "Epoch [5/10]. Step [200/500]. Loss 0.6589419841766357. Accuracy 79.0\n",
            "Epoch [5/10]. Step [300/500]. Loss 1.06784188747406. Accuracy 68.0\n",
            "Epoch [5/10]. Step [400/500]. Loss 0.7863883972167969. Accuracy 70.0\n",
            "Epoch [5/10]. Step [500/500]. Loss 0.8465726375579834. Accuracy 72.0\n",
            "Epoch [6/10]. Step [100/500]. Loss 0.857697069644928. Accuracy 68.0\n",
            "Epoch [6/10]. Step [200/500]. Loss 0.8500543832778931. Accuracy 72.0\n",
            "Epoch [6/10]. Step [300/500]. Loss 0.7616601586341858. Accuracy 77.0\n",
            "Epoch [6/10]. Step [400/500]. Loss 0.6533806324005127. Accuracy 74.0\n",
            "Epoch [6/10]. Step [500/500]. Loss 0.7114653587341309. Accuracy 75.0\n",
            "Epoch [7/10]. Step [100/500]. Loss 0.7979072332382202. Accuracy 72.0\n",
            "Epoch [7/10]. Step [200/500]. Loss 0.5901148319244385. Accuracy 79.0\n",
            "Epoch [7/10]. Step [300/500]. Loss 0.7268404364585876. Accuracy 67.0\n",
            "Epoch [7/10]. Step [400/500]. Loss 0.6290978193283081. Accuracy 78.0\n",
            "Epoch [7/10]. Step [500/500]. Loss 0.5969696640968323. Accuracy 80.0\n",
            "Epoch [8/10]. Step [100/500]. Loss 0.6311230063438416. Accuracy 79.0\n",
            "Epoch [8/10]. Step [200/500]. Loss 0.650453507900238. Accuracy 81.0\n",
            "Epoch [8/10]. Step [300/500]. Loss 0.9099742770195007. Accuracy 67.0\n",
            "Epoch [8/10]. Step [400/500]. Loss 0.6658632159233093. Accuracy 72.0\n",
            "Epoch [8/10]. Step [500/500]. Loss 0.6233054399490356. Accuracy 79.0\n",
            "Epoch [9/10]. Step [100/500]. Loss 0.6163035035133362. Accuracy 80.0\n",
            "Epoch [9/10]. Step [200/500]. Loss 0.4865964651107788. Accuracy 85.0\n",
            "Epoch [9/10]. Step [300/500]. Loss 0.6159793138504028. Accuracy 77.0\n",
            "Epoch [9/10]. Step [400/500]. Loss 0.7092272043228149. Accuracy 73.0\n",
            "Epoch [9/10]. Step [500/500]. Loss 0.5684847235679626. Accuracy 79.0\n",
            "Epoch [10/10]. Step [100/500]. Loss 0.7076759934425354. Accuracy 79.0\n",
            "Epoch [10/10]. Step [200/500]. Loss 0.6645641922950745. Accuracy 80.0\n",
            "Epoch [10/10]. Step [300/500]. Loss 0.6748660206794739. Accuracy 78.0\n",
            "Epoch [10/10]. Step [400/500]. Loss 0.6572003364562988. Accuracy 82.0\n",
            "Epoch [10/10]. Step [500/500]. Loss 0.43688634037971497. Accuracy 84.0\n",
            "Accuracy on 10000 test images is 70.21\n",
            "Mean loss 0.8850142955780029\n"
          ],
          "name": "stdout"
        }
      ]
    },
    {
      "cell_type": "code",
      "metadata": {
        "id": "M_q2duXWszAn"
      },
      "source": [
        "model = torch.load('model.pth')"
      ],
      "execution_count": 56,
      "outputs": []
    },
    {
      "cell_type": "code",
      "metadata": {
        "colab": {
          "base_uri": "https://localhost:8080/",
          "height": 283
        },
        "id": "6PiKOHZ-1Pv8",
        "outputId": "1e19029e-b92e-45fa-d4e1-bf293c6c1c97"
      },
      "source": [
        "import matplotlib.pyplot as plt\n",
        "import numpy as np\n",
        "\n",
        "\n",
        "idx = np.random.randint(0, len(test_dataset))\n",
        "img = test_dataset.data[idx]\n",
        "plt.imshow(img)\n",
        "img = torch.from_numpy(np.rollaxis(img, 2, 0)).type(torch.float32).to(device)\n",
        "\n",
        "output = model(img[None])\n",
        "_, pred = torch.max(output.data, dim=1)\n",
        "\n",
        "print(pred.cpu().numpy(), test_dataset.targets[idx])"
      ],
      "execution_count": 57,
      "outputs": [
        {
          "output_type": "stream",
          "text": [
            "[1] 1\n"
          ],
          "name": "stdout"
        },
        {
          "output_type": "display_data",
          "data": {
            "image/png": "[encoded data removed]",
            "text/plain": [
              "<Figure size 432x288 with 1 Axes>"
            ]
          },
          "metadata": {
            "tags": [],
            "needs_background": "light"
          }
        }
      ]
    },
    {
      "cell_type": "markdown",
      "metadata": {
        "id": "vefzyEt14I0D"
      },
      "source": [
        "https://github.com/yunjey/pytorch-tutorial/blob/master/tutorials/02-intermediate/deep_residual_network/main.py"
      ]
    },
    {
      "cell_type": "code",
      "metadata": {
        "id": "j4sM71rf2_6w"
      },
      "source": [
        "# ================================================================== #\n",
        "#                       Deep Residual Network                        #\n",
        "# ================================================================== #\n"
      ],
      "execution_count": null,
      "outputs": []
    }
  ]
}